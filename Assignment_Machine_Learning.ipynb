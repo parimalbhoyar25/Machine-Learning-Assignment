{
 "cells": [
  {
   "cell_type": "markdown",
   "metadata": {},
   "source": [
    "Importing some important libraries first."
   ]
  },
  {
   "cell_type": "code",
   "execution_count": 1,
   "metadata": {},
   "outputs": [],
   "source": [
    "import numpy as np\n",
    "import pandas as pd\n",
    "\n",
    "import matplotlib.pyplot as plt\n",
    "import seaborn as sns"
   ]
  },
  {
   "cell_type": "markdown",
   "metadata": {},
   "source": [
    "Reading the dataset by accessing it in a dataframe."
   ]
  },
  {
   "cell_type": "code",
   "execution_count": 2,
   "metadata": {},
   "outputs": [],
   "source": [
    "df=pd.read_excel('mavoix_ml_sample_dataset.xlsx')"
   ]
  },
  {
   "cell_type": "markdown",
   "metadata": {},
   "source": [
    "Checking Head and Tail of Data"
   ]
  },
  {
   "cell_type": "code",
   "execution_count": 3,
   "metadata": {},
   "outputs": [
    {
     "data": {
      "text/html": [
       "<div>\n",
       "<style scoped>\n",
       "    .dataframe tbody tr th:only-of-type {\n",
       "        vertical-align: middle;\n",
       "    }\n",
       "\n",
       "    .dataframe tbody tr th {\n",
       "        vertical-align: top;\n",
       "    }\n",
       "\n",
       "    .dataframe thead th {\n",
       "        text-align: right;\n",
       "    }\n",
       "</style>\n",
       "<table border=\"1\" class=\"dataframe\">\n",
       "  <thead>\n",
       "    <tr style=\"text-align: right;\">\n",
       "      <th></th>\n",
       "      <th>Application_ID</th>\n",
       "      <th>Current City</th>\n",
       "      <th>Python (out of 3)</th>\n",
       "      <th>R Programming (out of 3)</th>\n",
       "      <th>Deep Learning (out of 3)</th>\n",
       "      <th>PHP (out of 3)</th>\n",
       "      <th>MySQL (out of 3)</th>\n",
       "      <th>HTML (out of 3)</th>\n",
       "      <th>CSS (out of 3)</th>\n",
       "      <th>JavaScript (out of 3)</th>\n",
       "      <th>...</th>\n",
       "      <th>Node.js (out of 3)</th>\n",
       "      <th>ReactJS (out of 3)</th>\n",
       "      <th>Other skills</th>\n",
       "      <th>Degree</th>\n",
       "      <th>Stream</th>\n",
       "      <th>Current Year Of Graduation</th>\n",
       "      <th>Performance_PG</th>\n",
       "      <th>Performance_UG</th>\n",
       "      <th>Performance_12</th>\n",
       "      <th>Performance_10</th>\n",
       "    </tr>\n",
       "  </thead>\n",
       "  <tbody>\n",
       "    <tr>\n",
       "      <th>0</th>\n",
       "      <td>ML0001</td>\n",
       "      <td>Bangalore</td>\n",
       "      <td>0</td>\n",
       "      <td>2</td>\n",
       "      <td>0</td>\n",
       "      <td>2</td>\n",
       "      <td>0</td>\n",
       "      <td>2</td>\n",
       "      <td>3</td>\n",
       "      <td>2</td>\n",
       "      <td>...</td>\n",
       "      <td>0</td>\n",
       "      <td>0</td>\n",
       "      <td>R Programming</td>\n",
       "      <td>Bachelor of Science (B.Sc)</td>\n",
       "      <td>Mathematics</td>\n",
       "      <td>2017</td>\n",
       "      <td>NaN</td>\n",
       "      <td>NaN</td>\n",
       "      <td>NaN</td>\n",
       "      <td>NaN</td>\n",
       "    </tr>\n",
       "    <tr>\n",
       "      <th>1</th>\n",
       "      <td>ML0002</td>\n",
       "      <td>Bangalore</td>\n",
       "      <td>2</td>\n",
       "      <td>0</td>\n",
       "      <td>0</td>\n",
       "      <td>2</td>\n",
       "      <td>2</td>\n",
       "      <td>2</td>\n",
       "      <td>2</td>\n",
       "      <td>2</td>\n",
       "      <td>...</td>\n",
       "      <td>0</td>\n",
       "      <td>0</td>\n",
       "      <td>Data Science, Machine Learning, Neural Network...</td>\n",
       "      <td>Bachelor of Technology (B.Tech)</td>\n",
       "      <td>Computer Science &amp; Engineering</td>\n",
       "      <td>2019</td>\n",
       "      <td>NaN</td>\n",
       "      <td>85.50/100</td>\n",
       "      <td>92.20/92.20</td>\n",
       "      <td>96.60/96.60</td>\n",
       "    </tr>\n",
       "    <tr>\n",
       "      <th>2</th>\n",
       "      <td>ML0003</td>\n",
       "      <td>Bangalore</td>\n",
       "      <td>3</td>\n",
       "      <td>0</td>\n",
       "      <td>1</td>\n",
       "      <td>2</td>\n",
       "      <td>2</td>\n",
       "      <td>2</td>\n",
       "      <td>0</td>\n",
       "      <td>2</td>\n",
       "      <td>...</td>\n",
       "      <td>0</td>\n",
       "      <td>0</td>\n",
       "      <td>Algorithms, Data Structures, Python, C Program...</td>\n",
       "      <td>Master of Science (M.Sc)</td>\n",
       "      <td>Computer  Science</td>\n",
       "      <td>2018</td>\n",
       "      <td>7.91/10</td>\n",
       "      <td>70.00/100</td>\n",
       "      <td>64.83/64.83</td>\n",
       "      <td>77.60/77.60</td>\n",
       "    </tr>\n",
       "    <tr>\n",
       "      <th>3</th>\n",
       "      <td>ML0004</td>\n",
       "      <td>Bangalore</td>\n",
       "      <td>2</td>\n",
       "      <td>0</td>\n",
       "      <td>2</td>\n",
       "      <td>1</td>\n",
       "      <td>0</td>\n",
       "      <td>2</td>\n",
       "      <td>0</td>\n",
       "      <td>0</td>\n",
       "      <td>...</td>\n",
       "      <td>0</td>\n",
       "      <td>0</td>\n",
       "      <td>CSS, Deep Learning, Embedded Systems, HTML, Ma...</td>\n",
       "      <td>Bachelor of Engineering (B.E)</td>\n",
       "      <td>Electronics and Communication</td>\n",
       "      <td>2019</td>\n",
       "      <td>NaN</td>\n",
       "      <td>6.86/10</td>\n",
       "      <td>76.00/76.00</td>\n",
       "      <td>84.32/84.32</td>\n",
       "    </tr>\n",
       "    <tr>\n",
       "      <th>4</th>\n",
       "      <td>ML0005</td>\n",
       "      <td>Bangalore</td>\n",
       "      <td>2</td>\n",
       "      <td>0</td>\n",
       "      <td>0</td>\n",
       "      <td>2</td>\n",
       "      <td>0</td>\n",
       "      <td>2</td>\n",
       "      <td>1</td>\n",
       "      <td>1</td>\n",
       "      <td>...</td>\n",
       "      <td>2</td>\n",
       "      <td>2</td>\n",
       "      <td>HTML, OpenCV, Python, SQL, C++ Programming, CS...</td>\n",
       "      <td>Bachelor of Technology (B.Tech)</td>\n",
       "      <td>Production Engineering</td>\n",
       "      <td>2018</td>\n",
       "      <td>NaN</td>\n",
       "      <td>6.38/10</td>\n",
       "      <td>65.20/65.20</td>\n",
       "      <td>68.80/68.80</td>\n",
       "    </tr>\n",
       "  </tbody>\n",
       "</table>\n",
       "<p>5 rows × 24 columns</p>\n",
       "</div>"
      ],
      "text/plain": [
       "  Application_ID Current City  Python (out of 3)  R Programming (out of 3)  \\\n",
       "0         ML0001    Bangalore                  0                         2   \n",
       "1         ML0002    Bangalore                  2                         0   \n",
       "2         ML0003    Bangalore                  3                         0   \n",
       "3         ML0004    Bangalore                  2                         0   \n",
       "4         ML0005    Bangalore                  2                         0   \n",
       "\n",
       "   Deep Learning (out of 3)  PHP (out of 3)  MySQL (out of 3)  \\\n",
       "0                         0               2                 0   \n",
       "1                         0               2                 2   \n",
       "2                         1               2                 2   \n",
       "3                         2               1                 0   \n",
       "4                         0               2                 0   \n",
       "\n",
       "   HTML (out of 3)  CSS (out of 3)  JavaScript (out of 3)  ...  \\\n",
       "0                2               3                      2  ...   \n",
       "1                2               2                      2  ...   \n",
       "2                2               0                      2  ...   \n",
       "3                2               0                      0  ...   \n",
       "4                2               1                      1  ...   \n",
       "\n",
       "   Node.js (out of 3)  ReactJS (out of 3)  \\\n",
       "0                   0                   0   \n",
       "1                   0                   0   \n",
       "2                   0                   0   \n",
       "3                   0                   0   \n",
       "4                   2                   2   \n",
       "\n",
       "                                        Other skills  \\\n",
       "0                                      R Programming   \n",
       "1  Data Science, Machine Learning, Neural Network...   \n",
       "2  Algorithms, Data Structures, Python, C Program...   \n",
       "3  CSS, Deep Learning, Embedded Systems, HTML, Ma...   \n",
       "4  HTML, OpenCV, Python, SQL, C++ Programming, CS...   \n",
       "\n",
       "                            Degree                          Stream  \\\n",
       "0       Bachelor of Science (B.Sc)                     Mathematics   \n",
       "1  Bachelor of Technology (B.Tech)  Computer Science & Engineering   \n",
       "2         Master of Science (M.Sc)               Computer  Science   \n",
       "3    Bachelor of Engineering (B.E)   Electronics and Communication   \n",
       "4  Bachelor of Technology (B.Tech)          Production Engineering   \n",
       "\n",
       "   Current Year Of Graduation Performance_PG Performance_UG Performance_12  \\\n",
       "0                        2017            NaN            NaN            NaN   \n",
       "1                        2019            NaN      85.50/100    92.20/92.20   \n",
       "2                        2018        7.91/10      70.00/100    64.83/64.83   \n",
       "3                        2019            NaN        6.86/10    76.00/76.00   \n",
       "4                        2018            NaN        6.38/10    65.20/65.20   \n",
       "\n",
       "   Performance_10  \n",
       "0             NaN  \n",
       "1     96.60/96.60  \n",
       "2     77.60/77.60  \n",
       "3     84.32/84.32  \n",
       "4     68.80/68.80  \n",
       "\n",
       "[5 rows x 24 columns]"
      ]
     },
     "execution_count": 3,
     "metadata": {},
     "output_type": "execute_result"
    }
   ],
   "source": [
    "df.head()"
   ]
  },
  {
   "cell_type": "code",
   "execution_count": 4,
   "metadata": {},
   "outputs": [
    {
     "data": {
      "text/html": [
       "<div>\n",
       "<style scoped>\n",
       "    .dataframe tbody tr th:only-of-type {\n",
       "        vertical-align: middle;\n",
       "    }\n",
       "\n",
       "    .dataframe tbody tr th {\n",
       "        vertical-align: top;\n",
       "    }\n",
       "\n",
       "    .dataframe thead th {\n",
       "        text-align: right;\n",
       "    }\n",
       "</style>\n",
       "<table border=\"1\" class=\"dataframe\">\n",
       "  <thead>\n",
       "    <tr style=\"text-align: right;\">\n",
       "      <th></th>\n",
       "      <th>Application_ID</th>\n",
       "      <th>Current City</th>\n",
       "      <th>Python (out of 3)</th>\n",
       "      <th>R Programming (out of 3)</th>\n",
       "      <th>Deep Learning (out of 3)</th>\n",
       "      <th>PHP (out of 3)</th>\n",
       "      <th>MySQL (out of 3)</th>\n",
       "      <th>HTML (out of 3)</th>\n",
       "      <th>CSS (out of 3)</th>\n",
       "      <th>JavaScript (out of 3)</th>\n",
       "      <th>...</th>\n",
       "      <th>Node.js (out of 3)</th>\n",
       "      <th>ReactJS (out of 3)</th>\n",
       "      <th>Other skills</th>\n",
       "      <th>Degree</th>\n",
       "      <th>Stream</th>\n",
       "      <th>Current Year Of Graduation</th>\n",
       "      <th>Performance_PG</th>\n",
       "      <th>Performance_UG</th>\n",
       "      <th>Performance_12</th>\n",
       "      <th>Performance_10</th>\n",
       "    </tr>\n",
       "  </thead>\n",
       "  <tbody>\n",
       "    <tr>\n",
       "      <th>387</th>\n",
       "      <td>ML0388</td>\n",
       "      <td>Hyderabad</td>\n",
       "      <td>2</td>\n",
       "      <td>1</td>\n",
       "      <td>0</td>\n",
       "      <td>0</td>\n",
       "      <td>0</td>\n",
       "      <td>2</td>\n",
       "      <td>0</td>\n",
       "      <td>0</td>\n",
       "      <td>...</td>\n",
       "      <td>0</td>\n",
       "      <td>0</td>\n",
       "      <td>Database Management System (DBMS), HTML, Pytho...</td>\n",
       "      <td>Bachelor of Technology (B.Tech)</td>\n",
       "      <td>Computer Science &amp; Engineering</td>\n",
       "      <td>2020</td>\n",
       "      <td>NaN</td>\n",
       "      <td>75.00/100</td>\n",
       "      <td>NaN</td>\n",
       "      <td>NaN</td>\n",
       "    </tr>\n",
       "    <tr>\n",
       "      <th>388</th>\n",
       "      <td>ML0389</td>\n",
       "      <td>Bangalore</td>\n",
       "      <td>2</td>\n",
       "      <td>0</td>\n",
       "      <td>0</td>\n",
       "      <td>2</td>\n",
       "      <td>0</td>\n",
       "      <td>2</td>\n",
       "      <td>2</td>\n",
       "      <td>1</td>\n",
       "      <td>...</td>\n",
       "      <td>0</td>\n",
       "      <td>0</td>\n",
       "      <td>CSS, Cloud Computing, HTML, PHP, Python, Andro...</td>\n",
       "      <td>Master of Computer Applications (MCA)</td>\n",
       "      <td>Computer Application</td>\n",
       "      <td>2020</td>\n",
       "      <td>7.78/10</td>\n",
       "      <td>6.80/10</td>\n",
       "      <td>NaN</td>\n",
       "      <td>NaN</td>\n",
       "    </tr>\n",
       "    <tr>\n",
       "      <th>389</th>\n",
       "      <td>ML0390</td>\n",
       "      <td>Nagpur</td>\n",
       "      <td>1</td>\n",
       "      <td>0</td>\n",
       "      <td>0</td>\n",
       "      <td>0</td>\n",
       "      <td>0</td>\n",
       "      <td>2</td>\n",
       "      <td>2</td>\n",
       "      <td>1</td>\n",
       "      <td>...</td>\n",
       "      <td>0</td>\n",
       "      <td>0</td>\n",
       "      <td>CSS, HTML, JavaScript, Python</td>\n",
       "      <td>Bachelor of Engineering (B.E)</td>\n",
       "      <td>Electronics and Telecommunication Engineering ...</td>\n",
       "      <td>2020</td>\n",
       "      <td>NaN</td>\n",
       "      <td>6.10/10</td>\n",
       "      <td>62.62/62.62</td>\n",
       "      <td>NaN</td>\n",
       "    </tr>\n",
       "    <tr>\n",
       "      <th>390</th>\n",
       "      <td>ML0391</td>\n",
       "      <td>Kanpur</td>\n",
       "      <td>2</td>\n",
       "      <td>2</td>\n",
       "      <td>0</td>\n",
       "      <td>0</td>\n",
       "      <td>0</td>\n",
       "      <td>0</td>\n",
       "      <td>0</td>\n",
       "      <td>0</td>\n",
       "      <td>...</td>\n",
       "      <td>0</td>\n",
       "      <td>0</td>\n",
       "      <td>Android, C Programming, C++ Programming, Pytho...</td>\n",
       "      <td>Bachelor of Technology (B.Tech)</td>\n",
       "      <td>Computer Science &amp; Engineering</td>\n",
       "      <td>2020</td>\n",
       "      <td>NaN</td>\n",
       "      <td>6.50/10</td>\n",
       "      <td>62.50/62.50</td>\n",
       "      <td>76.50/76.50</td>\n",
       "    </tr>\n",
       "    <tr>\n",
       "      <th>391</th>\n",
       "      <td>ML0392</td>\n",
       "      <td>Durgapur</td>\n",
       "      <td>2</td>\n",
       "      <td>3</td>\n",
       "      <td>0</td>\n",
       "      <td>2</td>\n",
       "      <td>0</td>\n",
       "      <td>2</td>\n",
       "      <td>2</td>\n",
       "      <td>3</td>\n",
       "      <td>...</td>\n",
       "      <td>0</td>\n",
       "      <td>0</td>\n",
       "      <td>C Programming, C++ Programming, JavaScript, CS...</td>\n",
       "      <td>Master of Computer Applications (MCA)</td>\n",
       "      <td>Computer Application</td>\n",
       "      <td>2020</td>\n",
       "      <td>6.40/10</td>\n",
       "      <td>63.06/100</td>\n",
       "      <td>64.00/64.00</td>\n",
       "      <td>64.60/64.60</td>\n",
       "    </tr>\n",
       "  </tbody>\n",
       "</table>\n",
       "<p>5 rows × 24 columns</p>\n",
       "</div>"
      ],
      "text/plain": [
       "    Application_ID Current City  Python (out of 3)  R Programming (out of 3)  \\\n",
       "387         ML0388    Hyderabad                  2                         1   \n",
       "388         ML0389    Bangalore                  2                         0   \n",
       "389         ML0390       Nagpur                  1                         0   \n",
       "390         ML0391       Kanpur                  2                         2   \n",
       "391         ML0392     Durgapur                  2                         3   \n",
       "\n",
       "     Deep Learning (out of 3)  PHP (out of 3)  MySQL (out of 3)  \\\n",
       "387                         0               0                 0   \n",
       "388                         0               2                 0   \n",
       "389                         0               0                 0   \n",
       "390                         0               0                 0   \n",
       "391                         0               2                 0   \n",
       "\n",
       "     HTML (out of 3)  CSS (out of 3)  JavaScript (out of 3)  ...  \\\n",
       "387                2               0                      0  ...   \n",
       "388                2               2                      1  ...   \n",
       "389                2               2                      1  ...   \n",
       "390                0               0                      0  ...   \n",
       "391                2               2                      3  ...   \n",
       "\n",
       "     Node.js (out of 3)  ReactJS (out of 3)  \\\n",
       "387                   0                   0   \n",
       "388                   0                   0   \n",
       "389                   0                   0   \n",
       "390                   0                   0   \n",
       "391                   0                   0   \n",
       "\n",
       "                                          Other skills  \\\n",
       "387  Database Management System (DBMS), HTML, Pytho...   \n",
       "388  CSS, Cloud Computing, HTML, PHP, Python, Andro...   \n",
       "389                      CSS, HTML, JavaScript, Python   \n",
       "390  Android, C Programming, C++ Programming, Pytho...   \n",
       "391  C Programming, C++ Programming, JavaScript, CS...   \n",
       "\n",
       "                                    Degree  \\\n",
       "387        Bachelor of Technology (B.Tech)   \n",
       "388  Master of Computer Applications (MCA)   \n",
       "389          Bachelor of Engineering (B.E)   \n",
       "390        Bachelor of Technology (B.Tech)   \n",
       "391  Master of Computer Applications (MCA)   \n",
       "\n",
       "                                                Stream  \\\n",
       "387                     Computer Science & Engineering   \n",
       "388                               Computer Application   \n",
       "389  Electronics and Telecommunication Engineering ...   \n",
       "390                     Computer Science & Engineering   \n",
       "391                               Computer Application   \n",
       "\n",
       "     Current Year Of Graduation Performance_PG Performance_UG Performance_12  \\\n",
       "387                        2020            NaN      75.00/100            NaN   \n",
       "388                        2020        7.78/10        6.80/10            NaN   \n",
       "389                        2020            NaN        6.10/10    62.62/62.62   \n",
       "390                        2020            NaN        6.50/10    62.50/62.50   \n",
       "391                        2020        6.40/10      63.06/100    64.00/64.00   \n",
       "\n",
       "     Performance_10  \n",
       "387             NaN  \n",
       "388             NaN  \n",
       "389             NaN  \n",
       "390     76.50/76.50  \n",
       "391     64.60/64.60  \n",
       "\n",
       "[5 rows x 24 columns]"
      ]
     },
     "execution_count": 4,
     "metadata": {},
     "output_type": "execute_result"
    }
   ],
   "source": [
    "df.tail()"
   ]
  },
  {
   "cell_type": "code",
   "execution_count": 5,
   "metadata": {},
   "outputs": [
    {
     "data": {
      "text/plain": [
       "(392, 24)"
      ]
     },
     "execution_count": 5,
     "metadata": {},
     "output_type": "execute_result"
    }
   ],
   "source": [
    "#dimension of dataset\n",
    "df.shape"
   ]
  },
  {
   "cell_type": "markdown",
   "metadata": {},
   "source": [
    "Checking the information of Data(like no of rows,datatypes etc.)"
   ]
  },
  {
   "cell_type": "code",
   "execution_count": 6,
   "metadata": {},
   "outputs": [
    {
     "name": "stdout",
     "output_type": "stream",
     "text": [
      "<class 'pandas.core.frame.DataFrame'>\n",
      "RangeIndex: 392 entries, 0 to 391\n",
      "Data columns (total 24 columns):\n",
      "Application_ID                392 non-null object\n",
      "Current City                  392 non-null object\n",
      "Python (out of 3)             392 non-null int64\n",
      "R Programming (out of 3)      392 non-null int64\n",
      "Deep Learning (out of 3)      392 non-null int64\n",
      "PHP (out of 3)                392 non-null int64\n",
      "MySQL (out of 3)              392 non-null int64\n",
      "HTML (out of 3)               392 non-null int64\n",
      "CSS (out of 3)                392 non-null int64\n",
      "JavaScript (out of 3)         392 non-null int64\n",
      "Unnamed: 10                   0 non-null float64\n",
      "AJAX (out of 3)               392 non-null int64\n",
      "Bootstrap (out of 3)          392 non-null int64\n",
      "MongoDB (out of 3)            392 non-null int64\n",
      "Node.js (out of 3)            392 non-null int64\n",
      "ReactJS (out of 3)            392 non-null int64\n",
      "Other skills                  378 non-null object\n",
      "Degree                        380 non-null object\n",
      "Stream                        374 non-null object\n",
      "Current Year Of Graduation    392 non-null int64\n",
      "Performance_PG                103 non-null object\n",
      "Performance_UG                338 non-null object\n",
      "Performance_12                229 non-null object\n",
      "Performance_10                215 non-null object\n",
      "dtypes: float64(1), int64(14), object(9)\n",
      "memory usage: 73.6+ KB\n"
     ]
    }
   ],
   "source": [
    "df.info()"
   ]
  },
  {
   "cell_type": "markdown",
   "metadata": {},
   "source": [
    "## Data Cleaning"
   ]
  },
  {
   "cell_type": "markdown",
   "metadata": {},
   "source": [
    "From info of data we can see that\n",
    "* Unnamed: 10 has all Null values so we will drop it."
   ]
  },
  {
   "cell_type": "code",
   "execution_count": 7,
   "metadata": {},
   "outputs": [],
   "source": [
    "df.drop([\"Unnamed: 10\"], axis=1,inplace=True)"
   ]
  },
  {
   "cell_type": "code",
   "execution_count": 8,
   "metadata": {},
   "outputs": [
    {
     "data": {
      "text/html": [
       "<div>\n",
       "<style scoped>\n",
       "    .dataframe tbody tr th:only-of-type {\n",
       "        vertical-align: middle;\n",
       "    }\n",
       "\n",
       "    .dataframe tbody tr th {\n",
       "        vertical-align: top;\n",
       "    }\n",
       "\n",
       "    .dataframe thead th {\n",
       "        text-align: right;\n",
       "    }\n",
       "</style>\n",
       "<table border=\"1\" class=\"dataframe\">\n",
       "  <thead>\n",
       "    <tr style=\"text-align: right;\">\n",
       "      <th></th>\n",
       "      <th>Application_ID</th>\n",
       "      <th>Current City</th>\n",
       "      <th>Python (out of 3)</th>\n",
       "      <th>R Programming (out of 3)</th>\n",
       "      <th>Deep Learning (out of 3)</th>\n",
       "      <th>PHP (out of 3)</th>\n",
       "      <th>MySQL (out of 3)</th>\n",
       "      <th>HTML (out of 3)</th>\n",
       "      <th>CSS (out of 3)</th>\n",
       "      <th>JavaScript (out of 3)</th>\n",
       "      <th>...</th>\n",
       "      <th>Node.js (out of 3)</th>\n",
       "      <th>ReactJS (out of 3)</th>\n",
       "      <th>Other skills</th>\n",
       "      <th>Degree</th>\n",
       "      <th>Stream</th>\n",
       "      <th>Current Year Of Graduation</th>\n",
       "      <th>Performance_PG</th>\n",
       "      <th>Performance_UG</th>\n",
       "      <th>Performance_12</th>\n",
       "      <th>Performance_10</th>\n",
       "    </tr>\n",
       "  </thead>\n",
       "  <tbody>\n",
       "    <tr>\n",
       "      <th>0</th>\n",
       "      <td>ML0001</td>\n",
       "      <td>Bangalore</td>\n",
       "      <td>0</td>\n",
       "      <td>2</td>\n",
       "      <td>0</td>\n",
       "      <td>2</td>\n",
       "      <td>0</td>\n",
       "      <td>2</td>\n",
       "      <td>3</td>\n",
       "      <td>2</td>\n",
       "      <td>...</td>\n",
       "      <td>0</td>\n",
       "      <td>0</td>\n",
       "      <td>R Programming</td>\n",
       "      <td>Bachelor of Science (B.Sc)</td>\n",
       "      <td>Mathematics</td>\n",
       "      <td>2017</td>\n",
       "      <td>NaN</td>\n",
       "      <td>NaN</td>\n",
       "      <td>NaN</td>\n",
       "      <td>NaN</td>\n",
       "    </tr>\n",
       "  </tbody>\n",
       "</table>\n",
       "<p>1 rows × 23 columns</p>\n",
       "</div>"
      ],
      "text/plain": [
       "  Application_ID Current City  Python (out of 3)  R Programming (out of 3)  \\\n",
       "0         ML0001    Bangalore                  0                         2   \n",
       "\n",
       "   Deep Learning (out of 3)  PHP (out of 3)  MySQL (out of 3)  \\\n",
       "0                         0               2                 0   \n",
       "\n",
       "   HTML (out of 3)  CSS (out of 3)  JavaScript (out of 3)  ...  \\\n",
       "0                2               3                      2  ...   \n",
       "\n",
       "   Node.js (out of 3)  ReactJS (out of 3)   Other skills  \\\n",
       "0                   0                   0  R Programming   \n",
       "\n",
       "                       Degree       Stream Current Year Of Graduation  \\\n",
       "0  Bachelor of Science (B.Sc)  Mathematics                       2017   \n",
       "\n",
       "  Performance_PG Performance_UG  Performance_12 Performance_10  \n",
       "0            NaN            NaN             NaN            NaN  \n",
       "\n",
       "[1 rows x 23 columns]"
      ]
     },
     "execution_count": 8,
     "metadata": {},
     "output_type": "execute_result"
    }
   ],
   "source": [
    "df.head(1)"
   ]
  },
  {
   "cell_type": "code",
   "execution_count": 9,
   "metadata": {},
   "outputs": [
    {
     "data": {
      "text/plain": [
       "(392, 23)"
      ]
     },
     "execution_count": 9,
     "metadata": {},
     "output_type": "execute_result"
    }
   ],
   "source": [
    "df.shape"
   ]
  },
  {
   "cell_type": "markdown",
   "metadata": {},
   "source": [
    "## Data Visualisation"
   ]
  },
  {
   "cell_type": "code",
   "execution_count": 10,
   "metadata": {},
   "outputs": [
    {
     "data": {
      "image/png": "[encoded data removed]",
      "text/plain": [
       "<Figure size 1080x864 with 1 Axes>"
      ]
     },
     "metadata": {
      "needs_background": "light"
     },
     "output_type": "display_data"
    }
   ],
   "source": [
    "plt.figure(figsize=(15,12))\n",
    "sns.countplot(x='Current Year Of Graduation',data=df)\n",
    "plt.show()"
   ]
  },
  {
   "cell_type": "markdown",
   "metadata": {},
   "source": [
    "The above graph shows the count of each Year of Graduation for which the applicants have applied.Also we can conclude that:\n",
    "* Students who are graduating in year 2020 have applied the most for the intership.\n",
    "* Second highest are student who are already graduated in year 2019."
   ]
  },
  {
   "cell_type": "code",
   "execution_count": 11,
   "metadata": {},
   "outputs": [
    {
     "name": "stdout",
     "output_type": "stream",
     "text": [
      "Total number of different degree of applicants: 31\n"
     ]
    },
    {
     "data": {
      "text/plain": [
       "Bachelor of Technology (B.Tech)                          110\n",
       "Bachelor of Engineering (B.E)                             84\n",
       "Master of Computer Applications (MCA)                     70\n",
       "B.Tech (Hons.)                                            25\n",
       "Master of Technology (M.Tech)                             19\n",
       "Master of Science (M.Sc)                                  14\n",
       "Bachelor of Computer Applications (BCA)                   10\n",
       "Post Graduate Programme (PGP)                              8\n",
       "PG Diploma in Data Science                                 5\n",
       "Bachelor of Science (B.Sc)                                 5\n",
       "Integrated M.Sc.                                           5\n",
       "Integrated B.Tech & M.Tech                                 2\n",
       "Post Graduate Diploma in Management (P.G.D.M.)             2\n",
       "MBA                                                        2\n",
       "Integrated B.Tech                                          2\n",
       "Bachelor of Commerce (B.Com)                               2\n",
       "Integrated B.E & M.Tech                                    1\n",
       "Bachelor of Business Administration (B.B.A.)               1\n",
       "Bachelor of Arts (B.A.) (Hons.)                            1\n",
       "Post Graduate Diploma in Big Data Analytics (PG-DBDA)      1\n",
       "Bachelor of Business Management (B.B.M.)                   1\n",
       "Master of Science (M.Sc) (Hons.)                           1\n",
       "Bachelor of Computer Science (B.C.S.)                      1\n",
       "Post Graduate Program in Business Analytics                1\n",
       "B.Com. Professional                                        1\n",
       "Post Graduate Diploma                                      1\n",
       "Bachelor of Engineering (B.E) (Hons.)                      1\n",
       "Master of Science (M.S.)                                   1\n",
       "Executive MBA                                              1\n",
       "Bachelor of Commerce (B.Com) (Hons.)                       1\n",
       "Integrated M.Tech                                          1\n",
       "Name: Degree, dtype: int64"
      ]
     },
     "execution_count": 11,
     "metadata": {},
     "output_type": "execute_result"
    }
   ],
   "source": [
    "print('Total number of different degree of applicants:',df['Degree'].nunique())\n",
    "df['Degree'].value_counts()"
   ]
  },
  {
   "cell_type": "code",
   "execution_count": 12,
   "metadata": {},
   "outputs": [
    {
     "data": {
      "text/plain": [
       "Bachelor of Technology (B.Tech)          110\n",
       "Bachelor of Engineering (B.E)             84\n",
       "Master of Computer Applications (MCA)     70\n",
       "B.Tech (Hons.)                            25\n",
       "Master of Technology (M.Tech)             19\n",
       "Name: Degree, dtype: int64"
      ]
     },
     "execution_count": 12,
     "metadata": {},
     "output_type": "execute_result"
    }
   ],
   "source": [
    "df['Degree'].value_counts().head()\n"
   ]
  },
  {
   "cell_type": "markdown",
   "metadata": {},
   "source": [
    "From above we can see that:- \n",
    "* There are 31 different degree courses from which students have applied.\n",
    "* the degree Bachelor of Technology (B.Tech) is the highest from which the students have applied for intership."
   ]
  },
  {
   "cell_type": "code",
   "execution_count": 13,
   "metadata": {},
   "outputs": [
    {
     "name": "stdout",
     "output_type": "stream",
     "text": [
      "total number of streams: 78\n",
      "Computer  Science                                      64\n",
      "Electronics and Communication                          46\n",
      "Computer Science & Engineering                         45\n",
      "Computer Application                                   35\n",
      "Information Technology                                 20\n",
      "Mechanical Engineering                                 15\n",
      "computer science                                       11\n",
      "Data Science                                           10\n",
      "Electronics and Telecommunication Engineering (ETE)     8\n",
      "Electrical and Electronics Engineering                  7\n",
      "Mathematics                                             6\n",
      "MCA                                                     6\n",
      "Data Analytics                                          5\n",
      "IT                                                      5\n",
      "Information Science                                     4\n",
      "cs                                                      4\n",
      "Business Analytics                                      4\n",
      "Civil Engineering                                       3\n",
      "Statistics                                              3\n",
      "Artificial Intelligence                                 3\n",
      "Information Systems                                     3\n",
      "Production Engineering                                  2\n",
      "Motel Management                                        2\n",
      "Aerospace Engineering                                   2\n",
      "Electronics and Instrumentation                         2\n",
      "Computer Science And Application                        2\n",
      "Artificial Intelligence And Machine Learning            2\n",
      "Instrumentation and Control Engineering                 2\n",
      "Mobile Application And Cloud Technology                 2\n",
      "Core JAVA                                               2\n",
      "                                                       ..\n",
      "Software Systems                                        1\n",
      "Mechatronics                                            1\n",
      "Electronics and Computer Engineering                    1\n",
      "Computer Science &amp;engineering                       1\n",
      "Sensor Systems Technology                               1\n",
      "CSE With Cloud Computing                                1\n",
      "Computer Science AndEngineering                         1\n",
      "Instrumentation & Electronics                           1\n",
      "Computer  Applications                                  1\n",
      "E Learning Technologies                                 1\n",
      "Advance Diploma In Big Data Analytics                   1\n",
      "Biotechnology                                           1\n",
      "Engineering Physics                                     1\n",
      "Ceramic Engineering                                     1\n",
      "Kannur University                                       1\n",
      "Data Science, Data Analytics, Big Data                  1\n",
      "Design                                                  1\n",
      "Commerce                                                1\n",
      "Business Analytics And Business Intelligence            1\n",
      "Data Science Engineering                                1\n",
      "Commerce With Maths                                     1\n",
      "Finance                                                 1\n",
      "Economics                                               1\n",
      "Digital Communication & Networking                      1\n",
      "Earth Sciences                                          1\n",
      "Advanced Pg Diploma In Artificial Intelligence          1\n",
      "Data Science And Engineering                            1\n",
      "Engineering Design                                      1\n",
      "Computer Science And Mathematics                        1\n",
      "Remote Sensing And Wireless Sensor                      1\n",
      "Name: Stream, Length: 78, dtype: int64\n"
     ]
    }
   ],
   "source": [
    "print('total number of streams:',df['Stream'].nunique())\n",
    "print(df['Stream'].value_counts())"
   ]
  },
  {
   "cell_type": "code",
   "execution_count": null,
   "metadata": {},
   "outputs": [],
   "source": []
  },
  {
   "cell_type": "markdown",
   "metadata": {},
   "source": [
    "From above we say that:-\n",
    "* There are 78 different streams from which the students have applied for the intership.\n",
    "* Computer Science being most of all."
   ]
  },
  {
   "cell_type": "code",
   "execution_count": 14,
   "metadata": {},
   "outputs": [
    {
     "data": {
      "image/png": "[encoded data removed]",
      "text/plain": [
       "<Figure size 1440x1080 with 16 Axes>"
      ]
     },
     "metadata": {
      "needs_background": "light"
     },
     "output_type": "display_data"
    }
   ],
   "source": [
    "df.hist(bins=10, figsize=(20,15))\n",
    "plt.show()"
   ]
  },
  {
   "cell_type": "markdown",
   "metadata": {},
   "source": [
    "The above histogram shows the variabilty of all the columns data which are numweric."
   ]
  },
  {
   "cell_type": "markdown",
   "metadata": {},
   "source": [
    "## Data Preprocessing"
   ]
  },
  {
   "cell_type": "markdown",
   "metadata": {},
   "source": [
    "### Data Scientist"
   ]
  },
  {
   "cell_type": "markdown",
   "metadata": {},
   "source": [
    "Now here I am creating a new DataFrame in which I have selected only those columns i.e., skills which are mustfor a applicant for Data Scientist Role. If he is having more skills then that are plus point of that candidate."
   ]
  },
  {
   "cell_type": "code",
   "execution_count": 15,
   "metadata": {},
   "outputs": [],
   "source": [
    "new_df1 = df[(df['Python (out of 3)']>0) & (df['R Programming (out of 3)']>0) \n",
    "             & (df['MySQL (out of 3)']>0) & (df['Deep Learning (out of 3)'])>0]"
   ]
  },
  {
   "cell_type": "code",
   "execution_count": 16,
   "metadata": {},
   "outputs": [
    {
     "data": {
      "text/html": [
       "<div>\n",
       "<style scoped>\n",
       "    .dataframe tbody tr th:only-of-type {\n",
       "        vertical-align: middle;\n",
       "    }\n",
       "\n",
       "    .dataframe tbody tr th {\n",
       "        vertical-align: top;\n",
       "    }\n",
       "\n",
       "    .dataframe thead th {\n",
       "        text-align: right;\n",
       "    }\n",
       "</style>\n",
       "<table border=\"1\" class=\"dataframe\">\n",
       "  <thead>\n",
       "    <tr style=\"text-align: right;\">\n",
       "      <th></th>\n",
       "      <th>Application_ID</th>\n",
       "      <th>Current City</th>\n",
       "      <th>Python (out of 3)</th>\n",
       "      <th>R Programming (out of 3)</th>\n",
       "      <th>Deep Learning (out of 3)</th>\n",
       "      <th>PHP (out of 3)</th>\n",
       "      <th>MySQL (out of 3)</th>\n",
       "      <th>HTML (out of 3)</th>\n",
       "      <th>CSS (out of 3)</th>\n",
       "      <th>JavaScript (out of 3)</th>\n",
       "      <th>...</th>\n",
       "      <th>Node.js (out of 3)</th>\n",
       "      <th>ReactJS (out of 3)</th>\n",
       "      <th>Other skills</th>\n",
       "      <th>Degree</th>\n",
       "      <th>Stream</th>\n",
       "      <th>Current Year Of Graduation</th>\n",
       "      <th>Performance_PG</th>\n",
       "      <th>Performance_UG</th>\n",
       "      <th>Performance_12</th>\n",
       "      <th>Performance_10</th>\n",
       "    </tr>\n",
       "  </thead>\n",
       "  <tbody>\n",
       "    <tr>\n",
       "      <th>34</th>\n",
       "      <td>ML0035</td>\n",
       "      <td>Bangalore</td>\n",
       "      <td>3</td>\n",
       "      <td>3</td>\n",
       "      <td>3</td>\n",
       "      <td>0</td>\n",
       "      <td>2</td>\n",
       "      <td>2</td>\n",
       "      <td>2</td>\n",
       "      <td>1</td>\n",
       "      <td>...</td>\n",
       "      <td>0</td>\n",
       "      <td>0</td>\n",
       "      <td>Artifical Intelligence, Data Analytics, Deep L...</td>\n",
       "      <td>Bachelor of Technology (B.Tech)</td>\n",
       "      <td>Electronics and Communication</td>\n",
       "      <td>2019</td>\n",
       "      <td>NaN</td>\n",
       "      <td>69.00/100</td>\n",
       "      <td>82.30/82.30</td>\n",
       "      <td>93.00/93.00</td>\n",
       "    </tr>\n",
       "  </tbody>\n",
       "</table>\n",
       "<p>1 rows × 23 columns</p>\n",
       "</div>"
      ],
      "text/plain": [
       "   Application_ID Current City  Python (out of 3)  R Programming (out of 3)  \\\n",
       "34         ML0035    Bangalore                  3                         3   \n",
       "\n",
       "    Deep Learning (out of 3)  PHP (out of 3)  MySQL (out of 3)  \\\n",
       "34                         3               0                 2   \n",
       "\n",
       "    HTML (out of 3)  CSS (out of 3)  JavaScript (out of 3)  ...  \\\n",
       "34                2               2                      1  ...   \n",
       "\n",
       "    Node.js (out of 3)  ReactJS (out of 3)  \\\n",
       "34                   0                   0   \n",
       "\n",
       "                                         Other skills  \\\n",
       "34  Artifical Intelligence, Data Analytics, Deep L...   \n",
       "\n",
       "                             Degree                         Stream  \\\n",
       "34  Bachelor of Technology (B.Tech)  Electronics and Communication   \n",
       "\n",
       "   Current Year Of Graduation Performance_PG Performance_UG  Performance_12  \\\n",
       "34                       2019            NaN      69.00/100     82.30/82.30   \n",
       "\n",
       "   Performance_10  \n",
       "34    93.00/93.00  \n",
       "\n",
       "[1 rows x 23 columns]"
      ]
     },
     "execution_count": 16,
     "metadata": {},
     "output_type": "execute_result"
    }
   ],
   "source": [
    "new_df1.head(1)"
   ]
  },
  {
   "cell_type": "code",
   "execution_count": 17,
   "metadata": {},
   "outputs": [
    {
     "data": {
      "text/plain": [
       "(4, 23)"
      ]
     },
     "execution_count": 17,
     "metadata": {},
     "output_type": "execute_result"
    }
   ],
   "source": [
    "new_df1.shape"
   ]
  },
  {
   "cell_type": "code",
   "execution_count": 18,
   "metadata": {},
   "outputs": [
    {
     "name": "stderr",
     "output_type": "stream",
     "text": [
      "C:\\Users\\Parimal Bhoyer\\Anaconda3\\lib\\site-packages\\ipykernel_launcher.py:1: SettingWithCopyWarning: \n",
      "A value is trying to be set on a copy of a slice from a DataFrame.\n",
      "Try using .loc[row_indexer,col_indexer] = value instead\n",
      "\n",
      "See the caveats in the documentation: http://pandas.pydata.org/pandas-docs/stable/indexing.html#indexing-view-versus-copy\n",
      "  \"\"\"Entry point for launching an IPython kernel.\n"
     ]
    }
   ],
   "source": [
    "new_df1['Data_Scientist/Web_ Developer(1/0)']=1\n",
    "#creating a new column which labels applicant as 1 which are good for Data Scientist Role."
   ]
  },
  {
   "cell_type": "code",
   "execution_count": 19,
   "metadata": {},
   "outputs": [
    {
     "data": {
      "text/html": [
       "<div>\n",
       "<style scoped>\n",
       "    .dataframe tbody tr th:only-of-type {\n",
       "        vertical-align: middle;\n",
       "    }\n",
       "\n",
       "    .dataframe tbody tr th {\n",
       "        vertical-align: top;\n",
       "    }\n",
       "\n",
       "    .dataframe thead th {\n",
       "        text-align: right;\n",
       "    }\n",
       "</style>\n",
       "<table border=\"1\" class=\"dataframe\">\n",
       "  <thead>\n",
       "    <tr style=\"text-align: right;\">\n",
       "      <th></th>\n",
       "      <th>Application_ID</th>\n",
       "      <th>Current City</th>\n",
       "      <th>Python (out of 3)</th>\n",
       "      <th>R Programming (out of 3)</th>\n",
       "      <th>Deep Learning (out of 3)</th>\n",
       "      <th>PHP (out of 3)</th>\n",
       "      <th>MySQL (out of 3)</th>\n",
       "      <th>HTML (out of 3)</th>\n",
       "      <th>CSS (out of 3)</th>\n",
       "      <th>JavaScript (out of 3)</th>\n",
       "      <th>...</th>\n",
       "      <th>ReactJS (out of 3)</th>\n",
       "      <th>Other skills</th>\n",
       "      <th>Degree</th>\n",
       "      <th>Stream</th>\n",
       "      <th>Current Year Of Graduation</th>\n",
       "      <th>Performance_PG</th>\n",
       "      <th>Performance_UG</th>\n",
       "      <th>Performance_12</th>\n",
       "      <th>Performance_10</th>\n",
       "      <th>Data_Scientist/Web_ Developer(1/0)</th>\n",
       "    </tr>\n",
       "  </thead>\n",
       "  <tbody>\n",
       "    <tr>\n",
       "      <th>34</th>\n",
       "      <td>ML0035</td>\n",
       "      <td>Bangalore</td>\n",
       "      <td>3</td>\n",
       "      <td>3</td>\n",
       "      <td>3</td>\n",
       "      <td>0</td>\n",
       "      <td>2</td>\n",
       "      <td>2</td>\n",
       "      <td>2</td>\n",
       "      <td>1</td>\n",
       "      <td>...</td>\n",
       "      <td>0</td>\n",
       "      <td>Artifical Intelligence, Data Analytics, Deep L...</td>\n",
       "      <td>Bachelor of Technology (B.Tech)</td>\n",
       "      <td>Electronics and Communication</td>\n",
       "      <td>2019</td>\n",
       "      <td>NaN</td>\n",
       "      <td>69.00/100</td>\n",
       "      <td>82.30/82.30</td>\n",
       "      <td>93.00/93.00</td>\n",
       "      <td>1</td>\n",
       "    </tr>\n",
       "  </tbody>\n",
       "</table>\n",
       "<p>1 rows × 24 columns</p>\n",
       "</div>"
      ],
      "text/plain": [
       "   Application_ID Current City  Python (out of 3)  R Programming (out of 3)  \\\n",
       "34         ML0035    Bangalore                  3                         3   \n",
       "\n",
       "    Deep Learning (out of 3)  PHP (out of 3)  MySQL (out of 3)  \\\n",
       "34                         3               0                 2   \n",
       "\n",
       "    HTML (out of 3)  CSS (out of 3)  JavaScript (out of 3)  ...  \\\n",
       "34                2               2                      1  ...   \n",
       "\n",
       "    ReactJS (out of 3)                                       Other skills  \\\n",
       "34                   0  Artifical Intelligence, Data Analytics, Deep L...   \n",
       "\n",
       "                             Degree                         Stream  \\\n",
       "34  Bachelor of Technology (B.Tech)  Electronics and Communication   \n",
       "\n",
       "    Current Year Of Graduation Performance_PG Performance_UG Performance_12  \\\n",
       "34                        2019            NaN      69.00/100    82.30/82.30   \n",
       "\n",
       "    Performance_10 Data_Scientist/Web_ Developer(1/0)  \n",
       "34     93.00/93.00                                  1  \n",
       "\n",
       "[1 rows x 24 columns]"
      ]
     },
     "execution_count": 19,
     "metadata": {},
     "output_type": "execute_result"
    }
   ],
   "source": [
    "new_df1.head(1)"
   ]
  },
  {
   "cell_type": "markdown",
   "metadata": {},
   "source": [
    "### Web Developer"
   ]
  },
  {
   "cell_type": "markdown",
   "metadata": {},
   "source": [
    "Now here I am creating a new DataFrame in which I have selected only those columns i.e., skills which are must for a applicant for the Web Developer Role. If he is having more skills then that are plus point of that candidate."
   ]
  },
  {
   "cell_type": "code",
   "execution_count": 20,
   "metadata": {},
   "outputs": [],
   "source": [
    "new_df2=new_df2 = df[(df['PHP (out of 3)']>0) & (df['HTML (out of 3)']>0) & (df['CSS (out of 3)']>0) \n",
    "             & (df['JavaScript (out of 3)']>0) &  (df['MySQL (out of 3)']>0) &  (df['MongoDB (out of 3)']>0)]"
   ]
  },
  {
   "cell_type": "code",
   "execution_count": 21,
   "metadata": {},
   "outputs": [
    {
     "data": {
      "text/html": [
       "<div>\n",
       "<style scoped>\n",
       "    .dataframe tbody tr th:only-of-type {\n",
       "        vertical-align: middle;\n",
       "    }\n",
       "\n",
       "    .dataframe tbody tr th {\n",
       "        vertical-align: top;\n",
       "    }\n",
       "\n",
       "    .dataframe thead th {\n",
       "        text-align: right;\n",
       "    }\n",
       "</style>\n",
       "<table border=\"1\" class=\"dataframe\">\n",
       "  <thead>\n",
       "    <tr style=\"text-align: right;\">\n",
       "      <th></th>\n",
       "      <th>Application_ID</th>\n",
       "      <th>Current City</th>\n",
       "      <th>Python (out of 3)</th>\n",
       "      <th>R Programming (out of 3)</th>\n",
       "      <th>Deep Learning (out of 3)</th>\n",
       "      <th>PHP (out of 3)</th>\n",
       "      <th>MySQL (out of 3)</th>\n",
       "      <th>HTML (out of 3)</th>\n",
       "      <th>CSS (out of 3)</th>\n",
       "      <th>JavaScript (out of 3)</th>\n",
       "      <th>...</th>\n",
       "      <th>Node.js (out of 3)</th>\n",
       "      <th>ReactJS (out of 3)</th>\n",
       "      <th>Other skills</th>\n",
       "      <th>Degree</th>\n",
       "      <th>Stream</th>\n",
       "      <th>Current Year Of Graduation</th>\n",
       "      <th>Performance_PG</th>\n",
       "      <th>Performance_UG</th>\n",
       "      <th>Performance_12</th>\n",
       "      <th>Performance_10</th>\n",
       "    </tr>\n",
       "  </thead>\n",
       "  <tbody>\n",
       "    <tr>\n",
       "      <th>20</th>\n",
       "      <td>ML0021</td>\n",
       "      <td>Thrissur</td>\n",
       "      <td>1</td>\n",
       "      <td>0</td>\n",
       "      <td>0</td>\n",
       "      <td>2</td>\n",
       "      <td>2</td>\n",
       "      <td>3</td>\n",
       "      <td>3</td>\n",
       "      <td>2</td>\n",
       "      <td>...</td>\n",
       "      <td>2</td>\n",
       "      <td>0</td>\n",
       "      <td>HTML, MS-Excel, SQL, Android, JavaScript, PHP,...</td>\n",
       "      <td>Master of Computer Applications (MCA)</td>\n",
       "      <td>Computer Application</td>\n",
       "      <td>2017</td>\n",
       "      <td>NaN</td>\n",
       "      <td>NaN</td>\n",
       "      <td>NaN</td>\n",
       "      <td>NaN</td>\n",
       "    </tr>\n",
       "  </tbody>\n",
       "</table>\n",
       "<p>1 rows × 23 columns</p>\n",
       "</div>"
      ],
      "text/plain": [
       "   Application_ID Current City  Python (out of 3)  R Programming (out of 3)  \\\n",
       "20         ML0021     Thrissur                  1                         0   \n",
       "\n",
       "    Deep Learning (out of 3)  PHP (out of 3)  MySQL (out of 3)  \\\n",
       "20                         0               2                 2   \n",
       "\n",
       "    HTML (out of 3)  CSS (out of 3)  JavaScript (out of 3)  ...  \\\n",
       "20                3               3                      2  ...   \n",
       "\n",
       "    Node.js (out of 3)  ReactJS (out of 3)  \\\n",
       "20                   2                   0   \n",
       "\n",
       "                                         Other skills  \\\n",
       "20  HTML, MS-Excel, SQL, Android, JavaScript, PHP,...   \n",
       "\n",
       "                                   Degree                Stream  \\\n",
       "20  Master of Computer Applications (MCA)  Computer Application   \n",
       "\n",
       "   Current Year Of Graduation Performance_PG Performance_UG  Performance_12  \\\n",
       "20                       2017            NaN            NaN             NaN   \n",
       "\n",
       "   Performance_10  \n",
       "20            NaN  \n",
       "\n",
       "[1 rows x 23 columns]"
      ]
     },
     "execution_count": 21,
     "metadata": {},
     "output_type": "execute_result"
    }
   ],
   "source": [
    "new_df2.head(1)"
   ]
  },
  {
   "cell_type": "code",
   "execution_count": 22,
   "metadata": {},
   "outputs": [
    {
     "name": "stderr",
     "output_type": "stream",
     "text": [
      "C:\\Users\\Parimal Bhoyer\\Anaconda3\\lib\\site-packages\\ipykernel_launcher.py:1: SettingWithCopyWarning: \n",
      "A value is trying to be set on a copy of a slice from a DataFrame.\n",
      "Try using .loc[row_indexer,col_indexer] = value instead\n",
      "\n",
      "See the caveats in the documentation: http://pandas.pydata.org/pandas-docs/stable/indexing.html#indexing-view-versus-copy\n",
      "  \"\"\"Entry point for launching an IPython kernel.\n"
     ]
    }
   ],
   "source": [
    "new_df2['Data_Scientist/Web_ Developer(1/0)']=0\n",
    "#creating a new column which labels applicant as 0 which are good for Webn Developer Role."
   ]
  },
  {
   "cell_type": "code",
   "execution_count": 23,
   "metadata": {},
   "outputs": [
    {
     "data": {
      "text/html": [
       "<div>\n",
       "<style scoped>\n",
       "    .dataframe tbody tr th:only-of-type {\n",
       "        vertical-align: middle;\n",
       "    }\n",
       "\n",
       "    .dataframe tbody tr th {\n",
       "        vertical-align: top;\n",
       "    }\n",
       "\n",
       "    .dataframe thead th {\n",
       "        text-align: right;\n",
       "    }\n",
       "</style>\n",
       "<table border=\"1\" class=\"dataframe\">\n",
       "  <thead>\n",
       "    <tr style=\"text-align: right;\">\n",
       "      <th></th>\n",
       "      <th>Application_ID</th>\n",
       "      <th>Current City</th>\n",
       "      <th>Python (out of 3)</th>\n",
       "      <th>R Programming (out of 3)</th>\n",
       "      <th>Deep Learning (out of 3)</th>\n",
       "      <th>PHP (out of 3)</th>\n",
       "      <th>MySQL (out of 3)</th>\n",
       "      <th>HTML (out of 3)</th>\n",
       "      <th>CSS (out of 3)</th>\n",
       "      <th>JavaScript (out of 3)</th>\n",
       "      <th>...</th>\n",
       "      <th>ReactJS (out of 3)</th>\n",
       "      <th>Other skills</th>\n",
       "      <th>Degree</th>\n",
       "      <th>Stream</th>\n",
       "      <th>Current Year Of Graduation</th>\n",
       "      <th>Performance_PG</th>\n",
       "      <th>Performance_UG</th>\n",
       "      <th>Performance_12</th>\n",
       "      <th>Performance_10</th>\n",
       "      <th>Data_Scientist/Web_ Developer(1/0)</th>\n",
       "    </tr>\n",
       "  </thead>\n",
       "  <tbody>\n",
       "    <tr>\n",
       "      <th>20</th>\n",
       "      <td>ML0021</td>\n",
       "      <td>Thrissur</td>\n",
       "      <td>1</td>\n",
       "      <td>0</td>\n",
       "      <td>0</td>\n",
       "      <td>2</td>\n",
       "      <td>2</td>\n",
       "      <td>3</td>\n",
       "      <td>3</td>\n",
       "      <td>2</td>\n",
       "      <td>...</td>\n",
       "      <td>0</td>\n",
       "      <td>HTML, MS-Excel, SQL, Android, JavaScript, PHP,...</td>\n",
       "      <td>Master of Computer Applications (MCA)</td>\n",
       "      <td>Computer Application</td>\n",
       "      <td>2017</td>\n",
       "      <td>NaN</td>\n",
       "      <td>NaN</td>\n",
       "      <td>NaN</td>\n",
       "      <td>NaN</td>\n",
       "      <td>0</td>\n",
       "    </tr>\n",
       "  </tbody>\n",
       "</table>\n",
       "<p>1 rows × 24 columns</p>\n",
       "</div>"
      ],
      "text/plain": [
       "   Application_ID Current City  Python (out of 3)  R Programming (out of 3)  \\\n",
       "20         ML0021     Thrissur                  1                         0   \n",
       "\n",
       "    Deep Learning (out of 3)  PHP (out of 3)  MySQL (out of 3)  \\\n",
       "20                         0               2                 2   \n",
       "\n",
       "    HTML (out of 3)  CSS (out of 3)  JavaScript (out of 3)  ...  \\\n",
       "20                3               3                      2  ...   \n",
       "\n",
       "    ReactJS (out of 3)                                       Other skills  \\\n",
       "20                   0  HTML, MS-Excel, SQL, Android, JavaScript, PHP,...   \n",
       "\n",
       "                                   Degree                Stream  \\\n",
       "20  Master of Computer Applications (MCA)  Computer Application   \n",
       "\n",
       "    Current Year Of Graduation Performance_PG Performance_UG Performance_12  \\\n",
       "20                        2017            NaN            NaN            NaN   \n",
       "\n",
       "    Performance_10 Data_Scientist/Web_ Developer(1/0)  \n",
       "20             NaN                                  0  \n",
       "\n",
       "[1 rows x 24 columns]"
      ]
     },
     "execution_count": 23,
     "metadata": {},
     "output_type": "execute_result"
    }
   ],
   "source": [
    "new_df2.head(1)"
   ]
  },
  {
   "cell_type": "markdown",
   "metadata": {},
   "source": [
    "Concating Both dataframe i.e, new_df1 and new_df2 to one dataframe"
   ]
  },
  {
   "cell_type": "code",
   "execution_count": 24,
   "metadata": {},
   "outputs": [
    {
     "data": {
      "text/html": [
       "<div>\n",
       "<style scoped>\n",
       "    .dataframe tbody tr th:only-of-type {\n",
       "        vertical-align: middle;\n",
       "    }\n",
       "\n",
       "    .dataframe tbody tr th {\n",
       "        vertical-align: top;\n",
       "    }\n",
       "\n",
       "    .dataframe thead th {\n",
       "        text-align: right;\n",
       "    }\n",
       "</style>\n",
       "<table border=\"1\" class=\"dataframe\">\n",
       "  <thead>\n",
       "    <tr style=\"text-align: right;\">\n",
       "      <th></th>\n",
       "      <th>Application_ID</th>\n",
       "      <th>Current City</th>\n",
       "      <th>Python (out of 3)</th>\n",
       "      <th>R Programming (out of 3)</th>\n",
       "      <th>Deep Learning (out of 3)</th>\n",
       "      <th>PHP (out of 3)</th>\n",
       "      <th>MySQL (out of 3)</th>\n",
       "      <th>HTML (out of 3)</th>\n",
       "      <th>CSS (out of 3)</th>\n",
       "      <th>JavaScript (out of 3)</th>\n",
       "      <th>...</th>\n",
       "      <th>ReactJS (out of 3)</th>\n",
       "      <th>Other skills</th>\n",
       "      <th>Degree</th>\n",
       "      <th>Stream</th>\n",
       "      <th>Current Year Of Graduation</th>\n",
       "      <th>Performance_PG</th>\n",
       "      <th>Performance_UG</th>\n",
       "      <th>Performance_12</th>\n",
       "      <th>Performance_10</th>\n",
       "      <th>Data_Scientist/Web_ Developer(1/0)</th>\n",
       "    </tr>\n",
       "  </thead>\n",
       "  <tbody>\n",
       "    <tr>\n",
       "      <th>34</th>\n",
       "      <td>ML0035</td>\n",
       "      <td>Bangalore</td>\n",
       "      <td>3</td>\n",
       "      <td>3</td>\n",
       "      <td>3</td>\n",
       "      <td>0</td>\n",
       "      <td>2</td>\n",
       "      <td>2</td>\n",
       "      <td>2</td>\n",
       "      <td>1</td>\n",
       "      <td>...</td>\n",
       "      <td>0</td>\n",
       "      <td>Artifical Intelligence, Data Analytics, Deep L...</td>\n",
       "      <td>Bachelor of Technology (B.Tech)</td>\n",
       "      <td>Electronics and Communication</td>\n",
       "      <td>2019</td>\n",
       "      <td>NaN</td>\n",
       "      <td>69.00/100</td>\n",
       "      <td>82.30/82.30</td>\n",
       "      <td>93.00/93.00</td>\n",
       "      <td>1</td>\n",
       "    </tr>\n",
       "    <tr>\n",
       "      <th>124</th>\n",
       "      <td>ML0125</td>\n",
       "      <td>Bangalore</td>\n",
       "      <td>3</td>\n",
       "      <td>2</td>\n",
       "      <td>3</td>\n",
       "      <td>2</td>\n",
       "      <td>2</td>\n",
       "      <td>2</td>\n",
       "      <td>2</td>\n",
       "      <td>2</td>\n",
       "      <td>...</td>\n",
       "      <td>1</td>\n",
       "      <td>Data Science, Deep Learning, Machine Learning,...</td>\n",
       "      <td>Bachelor of Engineering (B.E)</td>\n",
       "      <td>Computer  Science</td>\n",
       "      <td>2019</td>\n",
       "      <td>NaN</td>\n",
       "      <td>7.60/10</td>\n",
       "      <td>60.00/60.00</td>\n",
       "      <td>82.33/82.33</td>\n",
       "      <td>1</td>\n",
       "    </tr>\n",
       "  </tbody>\n",
       "</table>\n",
       "<p>2 rows × 24 columns</p>\n",
       "</div>"
      ],
      "text/plain": [
       "    Application_ID Current City  Python (out of 3)  R Programming (out of 3)  \\\n",
       "34          ML0035    Bangalore                  3                         3   \n",
       "124         ML0125    Bangalore                  3                         2   \n",
       "\n",
       "     Deep Learning (out of 3)  PHP (out of 3)  MySQL (out of 3)  \\\n",
       "34                          3               0                 2   \n",
       "124                         3               2                 2   \n",
       "\n",
       "     HTML (out of 3)  CSS (out of 3)  JavaScript (out of 3)  ...  \\\n",
       "34                 2               2                      1  ...   \n",
       "124                2               2                      2  ...   \n",
       "\n",
       "     ReactJS (out of 3)                                       Other skills  \\\n",
       "34                    0  Artifical Intelligence, Data Analytics, Deep L...   \n",
       "124                   1  Data Science, Deep Learning, Machine Learning,...   \n",
       "\n",
       "                              Degree                         Stream  \\\n",
       "34   Bachelor of Technology (B.Tech)  Electronics and Communication   \n",
       "124    Bachelor of Engineering (B.E)              Computer  Science   \n",
       "\n",
       "     Current Year Of Graduation Performance_PG Performance_UG Performance_12  \\\n",
       "34                         2019            NaN      69.00/100    82.30/82.30   \n",
       "124                        2019            NaN        7.60/10    60.00/60.00   \n",
       "\n",
       "     Performance_10 Data_Scientist/Web_ Developer(1/0)  \n",
       "34      93.00/93.00                                  1  \n",
       "124     82.33/82.33                                  1  \n",
       "\n",
       "[2 rows x 24 columns]"
      ]
     },
     "execution_count": 24,
     "metadata": {},
     "output_type": "execute_result"
    }
   ],
   "source": [
    "data=pd.concat([new_df1,new_df2])\n",
    "data.head(2)"
   ]
  },
  {
   "cell_type": "code",
   "execution_count": 25,
   "metadata": {},
   "outputs": [
    {
     "data": {
      "text/plain": [
       "(8, 24)"
      ]
     },
     "execution_count": 25,
     "metadata": {},
     "output_type": "execute_result"
    }
   ],
   "source": [
    "data.shape"
   ]
  },
  {
   "cell_type": "markdown",
   "metadata": {},
   "source": [
    "## Machine Learning Model"
   ]
  },
  {
   "cell_type": "markdown",
   "metadata": {},
   "source": [
    "In relevalnce of our problem statement I THINK the columns namely Other skills, Degree,Stream, Current Year Of Graduation, Performance_PG, Performance_UG, Performance_12 and Performance_10 are not important for training the model, So not considering them."
   ]
  },
  {
   "cell_type": "code",
   "execution_count": 26,
   "metadata": {},
   "outputs": [],
   "source": [
    "x=data[['Python (out of 3)',\n",
    "       'R Programming (out of 3)', 'Deep Learning (out of 3)',\n",
    "       'PHP (out of 3)', 'MySQL (out of 3)', 'HTML (out of 3)',\n",
    "       'CSS (out of 3)', 'JavaScript (out of 3)', 'AJAX (out of 3)',\n",
    "       'Bootstrap (out of 3)', 'MongoDB (out of 3)', 'Node.js (out of 3)',\n",
    "       'ReactJS (out of 3)']]\n",
    "#selecting only skills of applicants"
   ]
  },
  {
   "cell_type": "code",
   "execution_count": 27,
   "metadata": {},
   "outputs": [],
   "source": [
    "y=data['Data_Scientist/Web_ Developer(1/0)']\n",
    "#target column (i.e.,tells the job role the applicant is applicable for)"
   ]
  },
  {
   "cell_type": "markdown",
   "metadata": {},
   "source": [
    "Splitting the data"
   ]
  },
  {
   "cell_type": "code",
   "execution_count": 28,
   "metadata": {},
   "outputs": [],
   "source": [
    "from sklearn.model_selection import train_test_split\n",
    "x_train,x_test,y_train,y_test=train_test_split(x,y,test_size=0.3,random_state=0)"
   ]
  },
  {
   "cell_type": "code",
   "execution_count": 29,
   "metadata": {},
   "outputs": [],
   "source": [
    "x_train=x_train.astype(float) #convert in float\n",
    "x_test=x_test.astype(float)"
   ]
  },
  {
   "cell_type": "code",
   "execution_count": 30,
   "metadata": {},
   "outputs": [],
   "source": [
    "#applying Standard Scalar\n",
    "from sklearn.preprocessing import StandardScaler\n",
    "sc=StandardScaler()\n",
    "x_train=sc.fit_transform(x_train)\n",
    "x_test=sc.transform(x_test)"
   ]
  },
  {
   "cell_type": "markdown",
   "metadata": {},
   "source": [
    "#### Training the model with Decision Tree Classification Algorithm"
   ]
  },
  {
   "cell_type": "code",
   "execution_count": 31,
   "metadata": {},
   "outputs": [],
   "source": [
    "from sklearn.tree import DecisionTreeClassifier  #feature scaling"
   ]
  },
  {
   "cell_type": "code",
   "execution_count": 32,
   "metadata": {},
   "outputs": [],
   "source": [
    "classifier=DecisionTreeClassifier(criterion='entropy')"
   ]
  },
  {
   "cell_type": "code",
   "execution_count": 33,
   "metadata": {},
   "outputs": [
    {
     "data": {
      "text/plain": [
       "DecisionTreeClassifier(class_weight=None, criterion='entropy', max_depth=None,\n",
       "                       max_features=None, max_leaf_nodes=None,\n",
       "                       min_impurity_decrease=0.0, min_impurity_split=None,\n",
       "                       min_samples_leaf=1, min_samples_split=2,\n",
       "                       min_weight_fraction_leaf=0.0, presort=False,\n",
       "                       random_state=None, splitter='best')"
      ]
     },
     "execution_count": 33,
     "metadata": {},
     "output_type": "execute_result"
    }
   ],
   "source": [
    "#fitting the model\n",
    "classifier.fit(x_train,y_train)"
   ]
  },
  {
   "cell_type": "code",
   "execution_count": 34,
   "metadata": {},
   "outputs": [],
   "source": [
    "y_predict=classifier.predict(x_test)"
   ]
  },
  {
   "cell_type": "code",
   "execution_count": 35,
   "metadata": {},
   "outputs": [],
   "source": [
    "from sklearn.metrics import confusion_matrix"
   ]
  },
  {
   "cell_type": "code",
   "execution_count": 36,
   "metadata": {},
   "outputs": [],
   "source": [
    "cm=confusion_matrix(y_test,y_predict)"
   ]
  },
  {
   "cell_type": "code",
   "execution_count": 37,
   "metadata": {},
   "outputs": [
    {
     "data": {
      "text/plain": [
       "array([[1, 0],\n",
       "       [0, 2]], dtype=int64)"
      ]
     },
     "execution_count": 37,
     "metadata": {},
     "output_type": "execute_result"
    }
   ],
   "source": [
    "cm"
   ]
  },
  {
   "cell_type": "code",
   "execution_count": 38,
   "metadata": {},
   "outputs": [
    {
     "data": {
      "image/png": "[encoded data removed]",
      "text/plain": [
       "<Figure size 432x288 with 2 Axes>"
      ]
     },
     "metadata": {
      "needs_background": "light"
     },
     "output_type": "display_data"
    }
   ],
   "source": [
    "sns.heatmap(cm,annot=True)\n",
    "plt.show()"
   ]
  },
  {
   "cell_type": "code",
   "execution_count": 39,
   "metadata": {},
   "outputs": [],
   "source": [
    "from sklearn.metrics import accuracy_score"
   ]
  },
  {
   "cell_type": "markdown",
   "metadata": {},
   "source": [
    "Accuracy on train data"
   ]
  },
  {
   "cell_type": "code",
   "execution_count": 40,
   "metadata": {},
   "outputs": [
    {
     "data": {
      "text/plain": [
       "1.0"
      ]
     },
     "execution_count": 40,
     "metadata": {},
     "output_type": "execute_result"
    }
   ],
   "source": [
    "classifier.score(x_train,y_train)"
   ]
  },
  {
   "cell_type": "markdown",
   "metadata": {},
   "source": [
    "Accuracy on test data"
   ]
  },
  {
   "cell_type": "code",
   "execution_count": 41,
   "metadata": {},
   "outputs": [
    {
     "data": {
      "text/plain": [
       "1.0"
      ]
     },
     "execution_count": 41,
     "metadata": {},
     "output_type": "execute_result"
    }
   ],
   "source": [
    "classifier.score(x_test,y_test)"
   ]
  },
  {
   "cell_type": "code",
   "execution_count": 42,
   "metadata": {},
   "outputs": [
    {
     "name": "stdout",
     "output_type": "stream",
     "text": [
      "              precision    recall  f1-score   support\n",
      "\n",
      "           0       1.00      1.00      1.00         1\n",
      "           1       1.00      1.00      1.00         2\n",
      "\n",
      "    accuracy                           1.00         3\n",
      "   macro avg       1.00      1.00      1.00         3\n",
      "weighted avg       1.00      1.00      1.00         3\n",
      "\n"
     ]
    }
   ],
   "source": [
    "from sklearn.metrics import classification_report\n",
    "print(classification_report(y_test,y_predict))"
   ]
  },
  {
   "cell_type": "markdown",
   "metadata": {},
   "source": [
    "#### Hyper Parameter Tuning"
   ]
  },
  {
   "cell_type": "code",
   "execution_count": 43,
   "metadata": {},
   "outputs": [],
   "source": [
    "classifier=DecisionTreeClassifier()"
   ]
  },
  {
   "cell_type": "code",
   "execution_count": 44,
   "metadata": {},
   "outputs": [],
   "source": [
    "from scipy.stats import randint"
   ]
  },
  {
   "cell_type": "code",
   "execution_count": 45,
   "metadata": {},
   "outputs": [],
   "source": [
    "Param_grid={'max_depth':[3,None],'min_samples_leaf':randint(1,9),'criterion':['entropy','gini']}"
   ]
  },
  {
   "cell_type": "code",
   "execution_count": 46,
   "metadata": {},
   "outputs": [],
   "source": [
    "from sklearn.model_selection import RandomizedSearchCV"
   ]
  },
  {
   "cell_type": "code",
   "execution_count": 47,
   "metadata": {},
   "outputs": [],
   "source": [
    "dt_cv=RandomizedSearchCV(classifier,Param_grid,cv=2)"
   ]
  },
  {
   "cell_type": "code",
   "execution_count": 48,
   "metadata": {},
   "outputs": [
    {
     "name": "stderr",
     "output_type": "stream",
     "text": [
      "C:\\Users\\Parimal Bhoyer\\Anaconda3\\lib\\site-packages\\sklearn\\model_selection\\_search.py:813: DeprecationWarning: The default of the `iid` parameter will change from True to False in version 0.22 and will be removed in 0.24. This will change numeric results when test-set sizes are unequal.\n",
      "  DeprecationWarning)\n"
     ]
    },
    {
     "data": {
      "text/plain": [
       "RandomizedSearchCV(cv=2, error_score='raise-deprecating',\n",
       "                   estimator=DecisionTreeClassifier(class_weight=None,\n",
       "                                                    criterion='gini',\n",
       "                                                    max_depth=None,\n",
       "                                                    max_features=None,\n",
       "                                                    max_leaf_nodes=None,\n",
       "                                                    min_impurity_decrease=0.0,\n",
       "                                                    min_impurity_split=None,\n",
       "                                                    min_samples_leaf=1,\n",
       "                                                    min_samples_split=2,\n",
       "                                                    min_weight_fraction_leaf=0.0,\n",
       "                                                    presort=False,\n",
       "                                                    random_state=None,\n",
       "                                                    splitter='best'),\n",
       "                   iid='warn', n_iter=10, n_jobs=None,\n",
       "                   param_distributions={'criterion': ['entropy', 'gini'],\n",
       "                                        'max_depth': [3, None],\n",
       "                                        'min_samples_leaf': <scipy.stats._distn_infrastructure.rv_frozen object at 0x000001952E53B8D0>},\n",
       "                   pre_dispatch='2*n_jobs', random_state=None, refit=True,\n",
       "                   return_train_score=False, scoring=None, verbose=0)"
      ]
     },
     "execution_count": 48,
     "metadata": {},
     "output_type": "execute_result"
    }
   ],
   "source": [
    "dt_cv.fit(x_train,y_train)"
   ]
  },
  {
   "cell_type": "markdown",
   "metadata": {},
   "source": [
    "Best parameters ans score are"
   ]
  },
  {
   "cell_type": "code",
   "execution_count": 49,
   "metadata": {},
   "outputs": [
    {
     "data": {
      "text/plain": [
       "{'criterion': 'entropy', 'max_depth': None, 'min_samples_leaf': 1}"
      ]
     },
     "execution_count": 49,
     "metadata": {},
     "output_type": "execute_result"
    }
   ],
   "source": [
    "dt_cv.best_params_"
   ]
  },
  {
   "cell_type": "code",
   "execution_count": 50,
   "metadata": {},
   "outputs": [
    {
     "data": {
      "text/plain": [
       "1.0"
      ]
     },
     "execution_count": 50,
     "metadata": {},
     "output_type": "execute_result"
    }
   ],
   "source": [
    "dt_cv.best_score_"
   ]
  },
  {
   "cell_type": "markdown",
   "metadata": {},
   "source": [
    "Again applying the algorith with best parameters."
   ]
  },
  {
   "cell_type": "code",
   "execution_count": 52,
   "metadata": {},
   "outputs": [],
   "source": [
    "classifier2=DecisionTreeClassifier(criterion= 'entropy', max_depth= None, min_samples_leaf=1)"
   ]
  },
  {
   "cell_type": "code",
   "execution_count": 53,
   "metadata": {},
   "outputs": [
    {
     "data": {
      "text/plain": [
       "DecisionTreeClassifier(class_weight=None, criterion='entropy', max_depth=None,\n",
       "                       max_features=None, max_leaf_nodes=None,\n",
       "                       min_impurity_decrease=0.0, min_impurity_split=None,\n",
       "                       min_samples_leaf=1, min_samples_split=2,\n",
       "                       min_weight_fraction_leaf=0.0, presort=False,\n",
       "                       random_state=None, splitter='best')"
      ]
     },
     "execution_count": 53,
     "metadata": {},
     "output_type": "execute_result"
    }
   ],
   "source": [
    "classifier2.fit(x_train,y_train)"
   ]
  },
  {
   "cell_type": "code",
   "execution_count": 54,
   "metadata": {},
   "outputs": [],
   "source": [
    "y_predict2=classifier2.predict(x_test)"
   ]
  },
  {
   "cell_type": "markdown",
   "metadata": {},
   "source": [
    "Accuracy on train data"
   ]
  },
  {
   "cell_type": "code",
   "execution_count": 55,
   "metadata": {},
   "outputs": [
    {
     "data": {
      "text/plain": [
       "1.0"
      ]
     },
     "execution_count": 55,
     "metadata": {},
     "output_type": "execute_result"
    }
   ],
   "source": [
    "classifier2.score(x_train,y_train)"
   ]
  },
  {
   "cell_type": "markdown",
   "metadata": {},
   "source": [
    "Accuracy on test data"
   ]
  },
  {
   "cell_type": "code",
   "execution_count": 56,
   "metadata": {},
   "outputs": [
    {
     "data": {
      "text/plain": [
       "1.0"
      ]
     },
     "execution_count": 56,
     "metadata": {},
     "output_type": "execute_result"
    }
   ],
   "source": [
    "classifier2.score(x_test,y_test)"
   ]
  },
  {
   "cell_type": "code",
   "execution_count": 57,
   "metadata": {},
   "outputs": [],
   "source": [
    "y_predict=dt_cv.predict(x_test)\n",
    "cm=confusion_matrix(y_test,y_predict)"
   ]
  },
  {
   "cell_type": "code",
   "execution_count": 58,
   "metadata": {},
   "outputs": [
    {
     "data": {
      "text/plain": [
       "array([[1, 0],\n",
       "       [0, 2]], dtype=int64)"
      ]
     },
     "execution_count": 58,
     "metadata": {},
     "output_type": "execute_result"
    }
   ],
   "source": [
    "cm"
   ]
  },
  {
   "cell_type": "code",
   "execution_count": 59,
   "metadata": {},
   "outputs": [
    {
     "data": {
      "image/png": "[encoded data removed]",
      "text/plain": [
       "<Figure size 432x288 with 2 Axes>"
      ]
     },
     "metadata": {
      "needs_background": "light"
     },
     "output_type": "display_data"
    }
   ],
   "source": [
    "sns.heatmap(cm,annot=True)\n",
    "plt.show()"
   ]
  },
  {
   "cell_type": "markdown",
   "metadata": {},
   "source": [
    "Above I have trained the model in which I have created the target, as in our problem target is not specified initially."
   ]
  },
  {
   "cell_type": "markdown",
   "metadata": {},
   "source": [
    "### Testing the model on a manually created Test Data"
   ]
  },
  {
   "cell_type": "code",
   "execution_count": 60,
   "metadata": {},
   "outputs": [],
   "source": [
    "test_df=pd.DataFrame(np.random.randint(0,4,260).reshape(20,13),columns=['Python (out of 3)',\n",
    "       'R Programming (out of 3)', 'Deep Learning (out of 3)',\n",
    "       'PHP (out of 3)', 'MySQL (out of 3)', 'HTML (out of 3)',\n",
    "       'CSS (out of 3)', 'JavaScript (out of 3)', 'AJAX (out of 3)',\n",
    "       'Bootstrap (out of 3)', 'MongoDB (out of 3)', 'Node.js (out of 3)',\n",
    "       'ReactJS (out of 3)'])"
   ]
  },
  {
   "cell_type": "code",
   "execution_count": 61,
   "metadata": {},
   "outputs": [
    {
     "data": {
      "text/html": [
       "<div>\n",
       "<style scoped>\n",
       "    .dataframe tbody tr th:only-of-type {\n",
       "        vertical-align: middle;\n",
       "    }\n",
       "\n",
       "    .dataframe tbody tr th {\n",
       "        vertical-align: top;\n",
       "    }\n",
       "\n",
       "    .dataframe thead th {\n",
       "        text-align: right;\n",
       "    }\n",
       "</style>\n",
       "<table border=\"1\" class=\"dataframe\">\n",
       "  <thead>\n",
       "    <tr style=\"text-align: right;\">\n",
       "      <th></th>\n",
       "      <th>Python (out of 3)</th>\n",
       "      <th>R Programming (out of 3)</th>\n",
       "      <th>Deep Learning (out of 3)</th>\n",
       "      <th>PHP (out of 3)</th>\n",
       "      <th>MySQL (out of 3)</th>\n",
       "      <th>HTML (out of 3)</th>\n",
       "      <th>CSS (out of 3)</th>\n",
       "      <th>JavaScript (out of 3)</th>\n",
       "      <th>AJAX (out of 3)</th>\n",
       "      <th>Bootstrap (out of 3)</th>\n",
       "      <th>MongoDB (out of 3)</th>\n",
       "      <th>Node.js (out of 3)</th>\n",
       "      <th>ReactJS (out of 3)</th>\n",
       "    </tr>\n",
       "  </thead>\n",
       "  <tbody>\n",
       "    <tr>\n",
       "      <th>0</th>\n",
       "      <td>3</td>\n",
       "      <td>1</td>\n",
       "      <td>0</td>\n",
       "      <td>1</td>\n",
       "      <td>2</td>\n",
       "      <td>0</td>\n",
       "      <td>0</td>\n",
       "      <td>0</td>\n",
       "      <td>2</td>\n",
       "      <td>0</td>\n",
       "      <td>1</td>\n",
       "      <td>3</td>\n",
       "      <td>1</td>\n",
       "    </tr>\n",
       "    <tr>\n",
       "      <th>1</th>\n",
       "      <td>3</td>\n",
       "      <td>0</td>\n",
       "      <td>1</td>\n",
       "      <td>2</td>\n",
       "      <td>1</td>\n",
       "      <td>2</td>\n",
       "      <td>2</td>\n",
       "      <td>2</td>\n",
       "      <td>2</td>\n",
       "      <td>1</td>\n",
       "      <td>1</td>\n",
       "      <td>3</td>\n",
       "      <td>0</td>\n",
       "    </tr>\n",
       "    <tr>\n",
       "      <th>2</th>\n",
       "      <td>1</td>\n",
       "      <td>3</td>\n",
       "      <td>3</td>\n",
       "      <td>2</td>\n",
       "      <td>3</td>\n",
       "      <td>0</td>\n",
       "      <td>0</td>\n",
       "      <td>1</td>\n",
       "      <td>3</td>\n",
       "      <td>1</td>\n",
       "      <td>2</td>\n",
       "      <td>1</td>\n",
       "      <td>3</td>\n",
       "    </tr>\n",
       "    <tr>\n",
       "      <th>3</th>\n",
       "      <td>3</td>\n",
       "      <td>3</td>\n",
       "      <td>0</td>\n",
       "      <td>0</td>\n",
       "      <td>1</td>\n",
       "      <td>1</td>\n",
       "      <td>2</td>\n",
       "      <td>3</td>\n",
       "      <td>1</td>\n",
       "      <td>2</td>\n",
       "      <td>2</td>\n",
       "      <td>2</td>\n",
       "      <td>1</td>\n",
       "    </tr>\n",
       "    <tr>\n",
       "      <th>4</th>\n",
       "      <td>3</td>\n",
       "      <td>1</td>\n",
       "      <td>3</td>\n",
       "      <td>2</td>\n",
       "      <td>1</td>\n",
       "      <td>0</td>\n",
       "      <td>3</td>\n",
       "      <td>3</td>\n",
       "      <td>3</td>\n",
       "      <td>3</td>\n",
       "      <td>1</td>\n",
       "      <td>1</td>\n",
       "      <td>2</td>\n",
       "    </tr>\n",
       "    <tr>\n",
       "      <th>5</th>\n",
       "      <td>2</td>\n",
       "      <td>1</td>\n",
       "      <td>0</td>\n",
       "      <td>3</td>\n",
       "      <td>0</td>\n",
       "      <td>1</td>\n",
       "      <td>2</td>\n",
       "      <td>2</td>\n",
       "      <td>0</td>\n",
       "      <td>2</td>\n",
       "      <td>2</td>\n",
       "      <td>2</td>\n",
       "      <td>3</td>\n",
       "    </tr>\n",
       "    <tr>\n",
       "      <th>6</th>\n",
       "      <td>2</td>\n",
       "      <td>3</td>\n",
       "      <td>3</td>\n",
       "      <td>1</td>\n",
       "      <td>2</td>\n",
       "      <td>0</td>\n",
       "      <td>0</td>\n",
       "      <td>3</td>\n",
       "      <td>2</td>\n",
       "      <td>3</td>\n",
       "      <td>3</td>\n",
       "      <td>0</td>\n",
       "      <td>2</td>\n",
       "    </tr>\n",
       "    <tr>\n",
       "      <th>7</th>\n",
       "      <td>0</td>\n",
       "      <td>0</td>\n",
       "      <td>3</td>\n",
       "      <td>0</td>\n",
       "      <td>2</td>\n",
       "      <td>1</td>\n",
       "      <td>2</td>\n",
       "      <td>1</td>\n",
       "      <td>0</td>\n",
       "      <td>2</td>\n",
       "      <td>3</td>\n",
       "      <td>0</td>\n",
       "      <td>3</td>\n",
       "    </tr>\n",
       "    <tr>\n",
       "      <th>8</th>\n",
       "      <td>3</td>\n",
       "      <td>1</td>\n",
       "      <td>3</td>\n",
       "      <td>3</td>\n",
       "      <td>2</td>\n",
       "      <td>1</td>\n",
       "      <td>2</td>\n",
       "      <td>0</td>\n",
       "      <td>3</td>\n",
       "      <td>2</td>\n",
       "      <td>1</td>\n",
       "      <td>3</td>\n",
       "      <td>0</td>\n",
       "    </tr>\n",
       "    <tr>\n",
       "      <th>9</th>\n",
       "      <td>2</td>\n",
       "      <td>3</td>\n",
       "      <td>2</td>\n",
       "      <td>0</td>\n",
       "      <td>3</td>\n",
       "      <td>2</td>\n",
       "      <td>0</td>\n",
       "      <td>2</td>\n",
       "      <td>3</td>\n",
       "      <td>2</td>\n",
       "      <td>0</td>\n",
       "      <td>3</td>\n",
       "      <td>2</td>\n",
       "    </tr>\n",
       "    <tr>\n",
       "      <th>10</th>\n",
       "      <td>1</td>\n",
       "      <td>1</td>\n",
       "      <td>2</td>\n",
       "      <td>3</td>\n",
       "      <td>3</td>\n",
       "      <td>0</td>\n",
       "      <td>3</td>\n",
       "      <td>2</td>\n",
       "      <td>1</td>\n",
       "      <td>3</td>\n",
       "      <td>2</td>\n",
       "      <td>0</td>\n",
       "      <td>1</td>\n",
       "    </tr>\n",
       "    <tr>\n",
       "      <th>11</th>\n",
       "      <td>3</td>\n",
       "      <td>1</td>\n",
       "      <td>0</td>\n",
       "      <td>1</td>\n",
       "      <td>2</td>\n",
       "      <td>0</td>\n",
       "      <td>3</td>\n",
       "      <td>2</td>\n",
       "      <td>3</td>\n",
       "      <td>0</td>\n",
       "      <td>1</td>\n",
       "      <td>0</td>\n",
       "      <td>1</td>\n",
       "    </tr>\n",
       "    <tr>\n",
       "      <th>12</th>\n",
       "      <td>2</td>\n",
       "      <td>1</td>\n",
       "      <td>3</td>\n",
       "      <td>1</td>\n",
       "      <td>1</td>\n",
       "      <td>2</td>\n",
       "      <td>0</td>\n",
       "      <td>3</td>\n",
       "      <td>0</td>\n",
       "      <td>3</td>\n",
       "      <td>2</td>\n",
       "      <td>2</td>\n",
       "      <td>0</td>\n",
       "    </tr>\n",
       "    <tr>\n",
       "      <th>13</th>\n",
       "      <td>0</td>\n",
       "      <td>2</td>\n",
       "      <td>0</td>\n",
       "      <td>3</td>\n",
       "      <td>3</td>\n",
       "      <td>1</td>\n",
       "      <td>0</td>\n",
       "      <td>0</td>\n",
       "      <td>0</td>\n",
       "      <td>3</td>\n",
       "      <td>0</td>\n",
       "      <td>0</td>\n",
       "      <td>1</td>\n",
       "    </tr>\n",
       "    <tr>\n",
       "      <th>14</th>\n",
       "      <td>1</td>\n",
       "      <td>3</td>\n",
       "      <td>3</td>\n",
       "      <td>1</td>\n",
       "      <td>3</td>\n",
       "      <td>2</td>\n",
       "      <td>3</td>\n",
       "      <td>0</td>\n",
       "      <td>2</td>\n",
       "      <td>1</td>\n",
       "      <td>3</td>\n",
       "      <td>2</td>\n",
       "      <td>1</td>\n",
       "    </tr>\n",
       "    <tr>\n",
       "      <th>15</th>\n",
       "      <td>3</td>\n",
       "      <td>0</td>\n",
       "      <td>0</td>\n",
       "      <td>0</td>\n",
       "      <td>2</td>\n",
       "      <td>2</td>\n",
       "      <td>0</td>\n",
       "      <td>3</td>\n",
       "      <td>3</td>\n",
       "      <td>2</td>\n",
       "      <td>2</td>\n",
       "      <td>0</td>\n",
       "      <td>3</td>\n",
       "    </tr>\n",
       "    <tr>\n",
       "      <th>16</th>\n",
       "      <td>1</td>\n",
       "      <td>0</td>\n",
       "      <td>0</td>\n",
       "      <td>2</td>\n",
       "      <td>1</td>\n",
       "      <td>3</td>\n",
       "      <td>3</td>\n",
       "      <td>3</td>\n",
       "      <td>2</td>\n",
       "      <td>2</td>\n",
       "      <td>3</td>\n",
       "      <td>0</td>\n",
       "      <td>0</td>\n",
       "    </tr>\n",
       "    <tr>\n",
       "      <th>17</th>\n",
       "      <td>1</td>\n",
       "      <td>0</td>\n",
       "      <td>1</td>\n",
       "      <td>3</td>\n",
       "      <td>3</td>\n",
       "      <td>0</td>\n",
       "      <td>3</td>\n",
       "      <td>0</td>\n",
       "      <td>3</td>\n",
       "      <td>1</td>\n",
       "      <td>3</td>\n",
       "      <td>2</td>\n",
       "      <td>1</td>\n",
       "    </tr>\n",
       "    <tr>\n",
       "      <th>18</th>\n",
       "      <td>1</td>\n",
       "      <td>3</td>\n",
       "      <td>3</td>\n",
       "      <td>3</td>\n",
       "      <td>2</td>\n",
       "      <td>0</td>\n",
       "      <td>2</td>\n",
       "      <td>2</td>\n",
       "      <td>0</td>\n",
       "      <td>2</td>\n",
       "      <td>1</td>\n",
       "      <td>3</td>\n",
       "      <td>2</td>\n",
       "    </tr>\n",
       "    <tr>\n",
       "      <th>19</th>\n",
       "      <td>0</td>\n",
       "      <td>1</td>\n",
       "      <td>0</td>\n",
       "      <td>0</td>\n",
       "      <td>1</td>\n",
       "      <td>2</td>\n",
       "      <td>1</td>\n",
       "      <td>0</td>\n",
       "      <td>0</td>\n",
       "      <td>1</td>\n",
       "      <td>3</td>\n",
       "      <td>0</td>\n",
       "      <td>2</td>\n",
       "    </tr>\n",
       "  </tbody>\n",
       "</table>\n",
       "</div>"
      ],
      "text/plain": [
       "    Python (out of 3)  R Programming (out of 3)  Deep Learning (out of 3)  \\\n",
       "0                   3                         1                         0   \n",
       "1                   3                         0                         1   \n",
       "2                   1                         3                         3   \n",
       "3                   3                         3                         0   \n",
       "4                   3                         1                         3   \n",
       "5                   2                         1                         0   \n",
       "6                   2                         3                         3   \n",
       "7                   0                         0                         3   \n",
       "8                   3                         1                         3   \n",
       "9                   2                         3                         2   \n",
       "10                  1                         1                         2   \n",
       "11                  3                         1                         0   \n",
       "12                  2                         1                         3   \n",
       "13                  0                         2                         0   \n",
       "14                  1                         3                         3   \n",
       "15                  3                         0                         0   \n",
       "16                  1                         0                         0   \n",
       "17                  1                         0                         1   \n",
       "18                  1                         3                         3   \n",
       "19                  0                         1                         0   \n",
       "\n",
       "    PHP (out of 3)  MySQL (out of 3)  HTML (out of 3)  CSS (out of 3)  \\\n",
       "0                1                 2                0               0   \n",
       "1                2                 1                2               2   \n",
       "2                2                 3                0               0   \n",
       "3                0                 1                1               2   \n",
       "4                2                 1                0               3   \n",
       "5                3                 0                1               2   \n",
       "6                1                 2                0               0   \n",
       "7                0                 2                1               2   \n",
       "8                3                 2                1               2   \n",
       "9                0                 3                2               0   \n",
       "10               3                 3                0               3   \n",
       "11               1                 2                0               3   \n",
       "12               1                 1                2               0   \n",
       "13               3                 3                1               0   \n",
       "14               1                 3                2               3   \n",
       "15               0                 2                2               0   \n",
       "16               2                 1                3               3   \n",
       "17               3                 3                0               3   \n",
       "18               3                 2                0               2   \n",
       "19               0                 1                2               1   \n",
       "\n",
       "    JavaScript (out of 3)  AJAX (out of 3)  Bootstrap (out of 3)  \\\n",
       "0                       0                2                     0   \n",
       "1                       2                2                     1   \n",
       "2                       1                3                     1   \n",
       "3                       3                1                     2   \n",
       "4                       3                3                     3   \n",
       "5                       2                0                     2   \n",
       "6                       3                2                     3   \n",
       "7                       1                0                     2   \n",
       "8                       0                3                     2   \n",
       "9                       2                3                     2   \n",
       "10                      2                1                     3   \n",
       "11                      2                3                     0   \n",
       "12                      3                0                     3   \n",
       "13                      0                0                     3   \n",
       "14                      0                2                     1   \n",
       "15                      3                3                     2   \n",
       "16                      3                2                     2   \n",
       "17                      0                3                     1   \n",
       "18                      2                0                     2   \n",
       "19                      0                0                     1   \n",
       "\n",
       "    MongoDB (out of 3)  Node.js (out of 3)  ReactJS (out of 3)  \n",
       "0                    1                   3                   1  \n",
       "1                    1                   3                   0  \n",
       "2                    2                   1                   3  \n",
       "3                    2                   2                   1  \n",
       "4                    1                   1                   2  \n",
       "5                    2                   2                   3  \n",
       "6                    3                   0                   2  \n",
       "7                    3                   0                   3  \n",
       "8                    1                   3                   0  \n",
       "9                    0                   3                   2  \n",
       "10                   2                   0                   1  \n",
       "11                   1                   0                   1  \n",
       "12                   2                   2                   0  \n",
       "13                   0                   0                   1  \n",
       "14                   3                   2                   1  \n",
       "15                   2                   0                   3  \n",
       "16                   3                   0                   0  \n",
       "17                   3                   2                   1  \n",
       "18                   1                   3                   2  \n",
       "19                   3                   0                   2  "
      ]
     },
     "execution_count": 61,
     "metadata": {},
     "output_type": "execute_result"
    }
   ],
   "source": [
    "test_df"
   ]
  },
  {
   "cell_type": "code",
   "execution_count": 62,
   "metadata": {},
   "outputs": [],
   "source": [
    "prediction=classifier2.predict(test_df)"
   ]
  },
  {
   "cell_type": "code",
   "execution_count": 63,
   "metadata": {},
   "outputs": [
    {
     "data": {
      "text/plain": [
       "array([1, 0, 1, 1, 1, 1, 1, 0, 1, 1, 1, 1, 1, 1, 1, 0, 0, 0, 1, 1],\n",
       "      dtype=int64)"
      ]
     },
     "execution_count": 63,
     "metadata": {},
     "output_type": "execute_result"
    }
   ],
   "source": [
    "prediction"
   ]
  },
  {
   "cell_type": "markdown",
   "metadata": {},
   "source": [
    "### Conclusion"
   ]
  },
  {
   "cell_type": "markdown",
   "metadata": {},
   "source": [
    "So from above we can predict that the Candidate which are labeled as 1 can be a good applicant for Data Scientist Role and the candidate labeled as 0 can be a good fit for Web Developer."
   ]
  },
  {
   "cell_type": "raw",
   "metadata": {},
   "source": [
    "Thank You\n",
    "Parimal R. Bhoyar"
   ]
  }
 ],
 "metadata": {
  "kernelspec": {
   "display_name": "Python 3",
   "language": "python",
   "name": "python3"
  },
  "language_info": {
   "codemirror_mode": {
    "name": "ipython",
    "version": 3
   },
   "file_extension": ".py",
   "mimetype": "text/x-python",
   "name": "python",
   "nbconvert_exporter": "python",
   "pygments_lexer": "ipython3",
   "version": "3.7.3"
  }
 },
 "nbformat": 4,
 "nbformat_minor": 2
}
